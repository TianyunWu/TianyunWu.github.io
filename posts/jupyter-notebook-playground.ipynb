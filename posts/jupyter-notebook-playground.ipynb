{
 "cells": [
  {
   "source": [
    "This post is to verify Nikola's compatibility with Jupyter notebook"
   ],
   "cell_type": "markdown",
   "metadata": {}
  },
  {
   "cell_type": "code",
   "execution_count": 1,
   "metadata": {},
   "outputs": [],
   "source": [
    "a = 1\n",
    "b = 2\n",
    "c = a * b\n",
    "assert c == 2"
   ]
  }
 ],
 "metadata": {
  "kernelspec": {
   "display_name": "Python 3",
   "env": {},
   "interrupt_mode": "signal",
   "language": "python",
   "metadata": {},
   "name": "python3"
  },
  "nikola": {
   "category": "",
   "date": "2020-10-01 14:50:28 UTC-04:00",
   "description": "",
   "link": "",
   "slug": "jupyter-notebook-playground",
   "tags": "",
   "title": "Jupyter Notebook Playground",
   "type": "text"
  }
 },
 "nbformat": 4,
 "nbformat_minor": 4
}